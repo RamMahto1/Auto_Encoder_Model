{
 "cells": [
  {
   "cell_type": "code",
   "execution_count": 1,
   "metadata": {},
   "outputs": [],
   "source": [
    "        import tensorflow as tf  \n",
    "        from tensorflow import keras\n",
    "        import cv2\n",
    "        import numpy as np\n",
    "\n",
    "        (x_train, y_train),(x_test, y_test) = tf.keras.datasets.mnist.load_data()  # loads the popular \"mnist\" training dataset\n",
    "\n",
    "        x_train = x_train/255.0  # scales the data. pixel values range from 0 to 255, so this makes it range 0 to 1\n",
    "        x_test = x_test/255.0 "
   ]
  },
  {
   "cell_type": "code",
   "execution_count": 2,
   "metadata": {},
   "outputs": [],
   "source": [
    "keras.backend.clear_session()"
   ]
  },
  {
   "cell_type": "code",
   "execution_count": 3,
   "metadata": {},
   "outputs": [],
   "source": [
    "model=tf.keras.Sequential()"
   ]
  },
  {
   "cell_type": "code",
   "execution_count": 4,
   "metadata": {},
   "outputs": [],
   "source": [
    "from tensorflow.keras.datasets import mnist\n",
    "from tensorflow.keras.layers import Input, Dense, Flatten, Reshape\n",
    "from tensorflow.keras.models import Sequential\n",
    "\n",
    "# Load the MNIST dataset\n",
    "(x_train, _), (x_test, _) = mnist.load_data()\n",
    "\n",
    "# Normalize the pixel values between 0 and 1\n",
    "x_train = x_train / 255.\n",
    "x_test = x_test / 255.\n"
   ]
  },
  {
   "cell_type": "code",
   "execution_count": 5,
   "metadata": {},
   "outputs": [],
   "source": [
    "encoder =Sequential(\n",
    "[\n",
    " Flatten(input_shape=(28, 28)),  # Flatten the input image\n",
    "    Dense(256, activation='relu'), # Hidden layer\n",
    "    Dense(128, activation='relu'), # Hidden layer\n",
    "    Dense(64, activation='relu') ,\n",
    "    Dense(32, activation='relu')  # Bottleneck layer , optional\n",
    "])\n"
   ]
  },
  {
   "cell_type": "code",
   "execution_count": 6,
   "metadata": {},
   "outputs": [],
   "source": [
    "decoder=Sequential([\n",
    "    \n",
    "    Dense(64, activation='relu'),  # Hidden layer\n",
    "    Dense(128, activation='relu'), # Hidden layer\n",
    "    Dense(256, activation='relu'), # Hidden layer\n",
    "    Dense(784, activation='sigmoid'), # Output layer\n",
    "    Reshape((28, 28))# Reshape the output image\n",
    "])"
   ]
  },
  {
   "cell_type": "code",
   "execution_count": 7,
   "metadata": {},
   "outputs": [],
   "source": [
    "autoencoder=keras.models.Sequential(encoder, decoder)"
   ]
  },
  {
   "cell_type": "code",
   "execution_count": 8,
   "metadata": {},
   "outputs": [
    {
     "name": "stdout",
     "output_type": "stream",
     "text": [
      "Epoch 1/20\n",
      "235/235 [==============================] - 6s 21ms/step - loss: 0.2357 - val_loss: 0.1638\n",
      "Epoch 2/20\n",
      "235/235 [==============================] - 5s 22ms/step - loss: 0.1483 - val_loss: 0.1348\n",
      "Epoch 3/20\n",
      "235/235 [==============================] - 5s 22ms/step - loss: 0.1300 - val_loss: 0.1239\n",
      "Epoch 4/20\n",
      "235/235 [==============================] - 5s 20ms/step - loss: 0.1218 - val_loss: 0.1181\n",
      "Epoch 5/20\n",
      "235/235 [==============================] - 5s 22ms/step - loss: 0.1157 - val_loss: 0.1120\n",
      "Epoch 6/20\n",
      "235/235 [==============================] - 5s 23ms/step - loss: 0.1114 - val_loss: 0.1090\n",
      "Epoch 7/20\n",
      "235/235 [==============================] - 5s 22ms/step - loss: 0.1086 - val_loss: 0.1068\n",
      "Epoch 8/20\n",
      "235/235 [==============================] - 5s 21ms/step - loss: 0.1064 - val_loss: 0.1047\n",
      "Epoch 9/20\n",
      "235/235 [==============================] - 5s 22ms/step - loss: 0.1043 - val_loss: 0.1026\n",
      "Epoch 10/20\n",
      "235/235 [==============================] - 5s 22ms/step - loss: 0.1024 - val_loss: 0.1005\n",
      "Epoch 11/20\n",
      "235/235 [==============================] - 5s 20ms/step - loss: 0.1006 - val_loss: 0.0990\n",
      "Epoch 12/20\n",
      "235/235 [==============================] - 5s 22ms/step - loss: 0.0992 - val_loss: 0.0977\n",
      "Epoch 13/20\n",
      "235/235 [==============================] - 5s 22ms/step - loss: 0.0978 - val_loss: 0.0964\n",
      "Epoch 14/20\n",
      "235/235 [==============================] - 5s 22ms/step - loss: 0.0968 - val_loss: 0.0956\n",
      "Epoch 15/20\n",
      "235/235 [==============================] - 5s 23ms/step - loss: 0.0957 - val_loss: 0.0951\n",
      "Epoch 16/20\n",
      "235/235 [==============================] - 5s 23ms/step - loss: 0.0948 - val_loss: 0.0940\n",
      "Epoch 17/20\n",
      "235/235 [==============================] - 5s 21ms/step - loss: 0.0940 - val_loss: 0.0932\n",
      "Epoch 18/20\n",
      "235/235 [==============================] - 6s 25ms/step - loss: 0.0934 - val_loss: 0.0935\n",
      "Epoch 19/20\n",
      "235/235 [==============================] - 6s 26ms/step - loss: 0.0928 - val_loss: 0.0917\n",
      "Epoch 20/20\n",
      "235/235 [==============================] - 5s 23ms/step - loss: 0.0921 - val_loss: 0.0913\n",
      "Test loss: 0.09133338183164597\n"
     ]
    }
   ],
   "source": [
    "\n",
    "\n",
    "\n",
    "\n",
    "# Define the autoencoder model\n",
    "autoencoder = Sequential(\n",
    "    \n",
    "    [\n",
    "    # Encoder\n",
    "    Flatten(input_shape=(28, 28)),  # Flatten the input image\n",
    "    Dense(256, activation='relu'), # Hidden layer\n",
    "    Dense(128, activation='relu'), # Hidden layer\n",
    "    Dense(64, activation='relu'),  # Hidden layer\n",
    "    # Bottleneck layer\n",
    "    Dense(32, activation='relu'),  # Bottleneck layer , optional\n",
    "    # Decoder\n",
    "    Dense(64, activation='relu'),  # Hidden layer\n",
    "    Dense(128, activation='relu'), # Hidden layer\n",
    "    Dense(256, activation='relu'), # Hidden layer\n",
    "    Dense(784, activation='sigmoid'), # Output layer\n",
    "    Reshape((28, 28)) # Reshape the output image\n",
    "]\n",
    "\n",
    ")\n",
    "\n",
    "# Compile the model\n",
    "autoencoder.compile(optimizer='adam', loss='binary_crossentropy')\n",
    "\n",
    "# Train the model\n",
    "autoencoder.fit(x_train, x_train, epochs=20, batch_size=256, validation_data=(x_test, x_test))\n",
    "\n",
    "# Evaluate the model on the test set\n",
    "score = autoencoder.evaluate(x_test, x_test, verbose=0)\n",
    "print(f'Test loss: {score}')\n"
   ]
  },
  {
   "cell_type": "code",
   "execution_count": 6,
   "metadata": {},
   "outputs": [],
   "source": [
    "example= autoencoder.predict(x_train[0].reshape(-1, 28, 28, 1) )"
   ]
  },
  {
   "cell_type": "code",
   "execution_count": 15,
   "metadata": {},
   "outputs": [
    {
     "data": {
      "text/plain": [
       "784"
      ]
     },
     "execution_count": 15,
     "metadata": {},
     "output_type": "execute_result"
    }
   ],
   "source": [
    "example.size"
   ]
  },
  {
   "cell_type": "code",
   "execution_count": 8,
   "metadata": {},
   "outputs": [],
   "source": [
    "import matplotlib.pyplot as plt"
   ]
  },
  {
   "cell_type": "code",
   "execution_count": 21,
   "metadata": {},
   "outputs": [
    {
     "data": {
      "text/plain": [
       "<matplotlib.image.AxesImage at 0x21d4802c640>"
      ]
     },
     "execution_count": 21,
     "metadata": {},
     "output_type": "execute_result"
    },
    {
     "data": {
      "image/png": "[encoded data removed]",
      "text/plain": [
       "<Figure size 432x288 with 1 Axes>"
      ]
     },
     "metadata": {
      "needs_background": "light"
     },
     "output_type": "display_data"
    }
   ],
   "source": [
    "plt.imshow(x_train[0],cmap='gray')"
   ]
  },
  {
   "cell_type": "code",
   "execution_count": 10,
   "metadata": {},
   "outputs": [
    {
     "data": {
      "text/plain": [
       "<matplotlib.image.AxesImage at 0x21d47f47970>"
      ]
     },
     "execution_count": 10,
     "metadata": {},
     "output_type": "execute_result"
    },
    {
     "data": {
      "image/png": "[encoded data removed]",
      "text/plain": [
       "<Figure size 432x288 with 1 Axes>"
      ]
     },
     "metadata": {
      "needs_background": "light"
     },
     "output_type": "display_data"
    }
   ],
   "source": [
    "plt.imshow(example[0],cmap=\"gray\")"
   ]
  },
  {
   "cell_type": "code",
   "execution_count": null,
   "metadata": {},
   "outputs": [],
   "source": []
  }
 ],
 "metadata": {
  "kernelspec": {
   "display_name": "Python 3 (ipykernel)",
   "language": "python",
   "name": "python3"
  },
  "language_info": {
   "codemirror_mode": {
    "name": "ipython",
    "version": 3
   },
   "file_extension": ".py",
   "mimetype": "text/x-python",
   "name": "python",
   "nbconvert_exporter": "python",
   "pygments_lexer": "ipython3",
   "version": "3.9.12"
  }
 },
 "nbformat": 4,
 "nbformat_minor": 4
}
